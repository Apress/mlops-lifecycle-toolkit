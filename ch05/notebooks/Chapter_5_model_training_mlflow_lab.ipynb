{
 "cells": [
  {
   "cell_type": "code",
   "execution_count": 5,
   "id": "f0815531-2167-4230-b157-50cead2f6f8f",
   "metadata": {},
   "outputs": [],
   "source": [
    "import os\n",
    "import mlflow\n",
    "import numpy as np\n"
   ]
  },
  {
   "cell_type": "code",
   "execution_count": 6,
   "id": "bded3ab9-ab13-41ab-a815-eae249c42be7",
   "metadata": {},
   "outputs": [],
   "source": [
    "\n",
    "os.environ[\"AWS_ACCESS_KEY_ID\"] = \"minio\"\n",
    "os.environ[\"AWS_SECRET_ACCESS_KEY\"] = \"minio123\"\n",
    "os.environ[\"MLFLOW_S3_ENDPOINT_URL\"] = f\"http://minio:9000\""
   ]
  },
  {
   "cell_type": "code",
   "execution_count": 7,
   "id": "fcd53a85-a74c-4c83-b3c0-d00aa0f22620",
   "metadata": {},
   "outputs": [],
   "source": [
    "# Import necessary libraries\n",
    "from sklearn.datasets import make_classification\n",
    "from sklearn.model_selection import train_test_split\n",
    "from sklearn.pipeline import Pipeline\n",
    "from sklearn.preprocessing import StandardScaler\n",
    "from sklearn.linear_model import LogisticRegression\n",
    "from sklearn.metrics import classification_report\n",
    "from sklearn.utils import resample\n",
    "import mlflow\n",
    "from mlflow.tracking import MlflowClient\n",
    "\n"
   ]
  },
  {
   "cell_type": "code",
   "execution_count": 8,
   "id": "cb902314-f8a6-4fc3-98d4-17a3115fdc45",
   "metadata": {},
   "outputs": [],
   "source": [
    "# Generate mock imbalanced data\n",
    "X, y = make_classification(n_samples=10000, n_features=10, n_classes=2, weights=[0.9, 0.1], random_state=42)\n",
    "\n",
    "# Split the data into training and testing sets\n",
    "X_train, X_test, y_train, y_test = train_test_split(X, y, test_size=0.3, random_state=42)\n",
    "\n",
    "# Upsample the minority class in the training data\n",
    "X_train_upsampled, y_train_upsampled = resample(X_train[y_train == 1], y_train[y_train == 1], replace=True, n_samples=X_train[y_train == 0].shape[0], random_state=42)\n",
    "X_train = np.concatenate((X_train[y_train == 0], X_train_upsampled))\n",
    "y_train = np.concatenate((y_train[y_train == 0], y_train_upsampled))\n",
    "\n",
    "# Define the pipeline\n",
    "pipeline = Pipeline([\n",
    "    ('scaler', StandardScaler()),\n",
    "    ('classifier', LogisticRegression(random_state=42))\n",
    "])\n",
    "\n",
    "\n"
   ]
  },
  {
   "cell_type": "code",
   "execution_count": 9,
   "id": "60d368da-1dc2-4a89-8511-64c9d80695e3",
   "metadata": {},
   "outputs": [
    {
     "data": {
      "text/html": [
       "<style>#sk-container-id-1 {color: black;background-color: white;}#sk-container-id-1 pre{padding: 0;}#sk-container-id-1 div.sk-toggleable {background-color: white;}#sk-container-id-1 label.sk-toggleable__label {cursor: pointer;display: block;width: 100%;margin-bottom: 0;padding: 0.3em;box-sizing: border-box;text-align: center;}#sk-container-id-1 label.sk-toggleable__label-arrow:before {content: \"▸\";float: left;margin-right: 0.25em;color: #696969;}#sk-container-id-1 label.sk-toggleable__label-arrow:hover:before {color: black;}#sk-container-id-1 div.sk-estimator:hover label.sk-toggleable__label-arrow:before {color: black;}#sk-container-id-1 div.sk-toggleable__content {max-height: 0;max-width: 0;overflow: hidden;text-align: left;background-color: #f0f8ff;}#sk-container-id-1 div.sk-toggleable__content pre {margin: 0.2em;color: black;border-radius: 0.25em;background-color: #f0f8ff;}#sk-container-id-1 input.sk-toggleable__control:checked~div.sk-toggleable__content {max-height: 200px;max-width: 100%;overflow: auto;}#sk-container-id-1 input.sk-toggleable__control:checked~label.sk-toggleable__label-arrow:before {content: \"▾\";}#sk-container-id-1 div.sk-estimator input.sk-toggleable__control:checked~label.sk-toggleable__label {background-color: #d4ebff;}#sk-container-id-1 div.sk-label input.sk-toggleable__control:checked~label.sk-toggleable__label {background-color: #d4ebff;}#sk-container-id-1 input.sk-hidden--visually {border: 0;clip: rect(1px 1px 1px 1px);clip: rect(1px, 1px, 1px, 1px);height: 1px;margin: -1px;overflow: hidden;padding: 0;position: absolute;width: 1px;}#sk-container-id-1 div.sk-estimator {font-family: monospace;background-color: #f0f8ff;border: 1px dotted black;border-radius: 0.25em;box-sizing: border-box;margin-bottom: 0.5em;}#sk-container-id-1 div.sk-estimator:hover {background-color: #d4ebff;}#sk-container-id-1 div.sk-parallel-item::after {content: \"\";width: 100%;border-bottom: 1px solid gray;flex-grow: 1;}#sk-container-id-1 div.sk-label:hover label.sk-toggleable__label {background-color: #d4ebff;}#sk-container-id-1 div.sk-serial::before {content: \"\";position: absolute;border-left: 1px solid gray;box-sizing: border-box;top: 0;bottom: 0;left: 50%;z-index: 0;}#sk-container-id-1 div.sk-serial {display: flex;flex-direction: column;align-items: center;background-color: white;padding-right: 0.2em;padding-left: 0.2em;position: relative;}#sk-container-id-1 div.sk-item {position: relative;z-index: 1;}#sk-container-id-1 div.sk-parallel {display: flex;align-items: stretch;justify-content: center;background-color: white;position: relative;}#sk-container-id-1 div.sk-item::before, #sk-container-id-1 div.sk-parallel-item::before {content: \"\";position: absolute;border-left: 1px solid gray;box-sizing: border-box;top: 0;bottom: 0;left: 50%;z-index: -1;}#sk-container-id-1 div.sk-parallel-item {display: flex;flex-direction: column;z-index: 1;position: relative;background-color: white;}#sk-container-id-1 div.sk-parallel-item:first-child::after {align-self: flex-end;width: 50%;}#sk-container-id-1 div.sk-parallel-item:last-child::after {align-self: flex-start;width: 50%;}#sk-container-id-1 div.sk-parallel-item:only-child::after {width: 0;}#sk-container-id-1 div.sk-dashed-wrapped {border: 1px dashed gray;margin: 0 0.4em 0.5em 0.4em;box-sizing: border-box;padding-bottom: 0.4em;background-color: white;}#sk-container-id-1 div.sk-label label {font-family: monospace;font-weight: bold;display: inline-block;line-height: 1.2em;}#sk-container-id-1 div.sk-label-container {text-align: center;}#sk-container-id-1 div.sk-container {/* jupyter's `normalize.less` sets `[hidden] { display: none; }` but bootstrap.min.css set `[hidden] { display: none !important; }` so we also need the `!important` here to be able to override the default hidden behavior on the sphinx rendered scikit-learn.org. See: https://github.com/scikit-learn/scikit-learn/issues/21755 */display: inline-block !important;position: relative;}#sk-container-id-1 div.sk-text-repr-fallback {display: none;}</style><div id=\"sk-container-id-1\" class=\"sk-top-container\"><div class=\"sk-text-repr-fallback\"><pre>Pipeline(steps=[(&#x27;scaler&#x27;, StandardScaler()),\n",
       "                (&#x27;classifier&#x27;, LogisticRegression(random_state=42))])</pre><b>In a Jupyter environment, please rerun this cell to show the HTML representation or trust the notebook. <br />On GitHub, the HTML representation is unable to render, please try loading this page with nbviewer.org.</b></div><div class=\"sk-container\" hidden><div class=\"sk-item sk-dashed-wrapped\"><div class=\"sk-label-container\"><div class=\"sk-label sk-toggleable\"><input class=\"sk-toggleable__control sk-hidden--visually\" id=\"sk-estimator-id-1\" type=\"checkbox\" ><label for=\"sk-estimator-id-1\" class=\"sk-toggleable__label sk-toggleable__label-arrow\">Pipeline</label><div class=\"sk-toggleable__content\"><pre>Pipeline(steps=[(&#x27;scaler&#x27;, StandardScaler()),\n",
       "                (&#x27;classifier&#x27;, LogisticRegression(random_state=42))])</pre></div></div></div><div class=\"sk-serial\"><div class=\"sk-item\"><div class=\"sk-estimator sk-toggleable\"><input class=\"sk-toggleable__control sk-hidden--visually\" id=\"sk-estimator-id-2\" type=\"checkbox\" ><label for=\"sk-estimator-id-2\" class=\"sk-toggleable__label sk-toggleable__label-arrow\">StandardScaler</label><div class=\"sk-toggleable__content\"><pre>StandardScaler()</pre></div></div></div><div class=\"sk-item\"><div class=\"sk-estimator sk-toggleable\"><input class=\"sk-toggleable__control sk-hidden--visually\" id=\"sk-estimator-id-3\" type=\"checkbox\" ><label for=\"sk-estimator-id-3\" class=\"sk-toggleable__label sk-toggleable__label-arrow\">LogisticRegression</label><div class=\"sk-toggleable__content\"><pre>LogisticRegression(random_state=42)</pre></div></div></div></div></div></div></div>"
      ],
      "text/plain": [
       "Pipeline(steps=[('scaler', StandardScaler()),\n",
       "                ('classifier', LogisticRegression(random_state=42))])"
      ]
     },
     "execution_count": 9,
     "metadata": {},
     "output_type": "execute_result"
    }
   ],
   "source": [
    "pipeline"
   ]
  },
  {
   "cell_type": "code",
   "execution_count": 10,
   "id": "f33b55f8-79b2-4926-a4cd-20fe2b40064d",
   "metadata": {},
   "outputs": [],
   "source": [
    "# Set up MLFlow logging\n",
    "mlflow.set_tracking_uri(\"http://mlflow_server:5000\")\n",
    "mlflow.set_experiment(\"my_experiment\")\n",
    "client = MlflowClient()\n",
    "\n"
   ]
  },
  {
   "cell_type": "code",
   "execution_count": 11,
   "id": "2a4e5d91-5505-4260-ab0b-ff8a8503e239",
   "metadata": {},
   "outputs": [
    {
     "name": "stdout",
     "output_type": "stream",
     "text": [
      "s3://mlflow/1/d827e52cc5e04859b1aa0fd9111c2090/artifacts\n"
     ]
    },
    {
     "name": "stderr",
     "output_type": "stream",
     "text": [
      "/opt/conda/lib/python3.10/site-packages/_distutils_hack/__init__.py:33: UserWarning: Setuptools is replacing distutils.\n",
      "  warnings.warn(\"Setuptools is replacing distutils.\")\n"
     ]
    },
    {
     "name": "stdout",
     "output_type": "stream",
     "text": [
      "Experiment ID: 1\n",
      "Run ID: d827e52cc5e04859b1aa0fd9111c2090\n",
      "Run Details: <RunData: metrics={'accuracy': 0.894,\n",
      " 'precision': 0.4857142857142857,\n",
      " 'recall': 0.8415841584158416}, params={'up_sampling': 'True'}, tags={'mlflow.log-model.history': '[{\"run_id\": \"d827e52cc5e04859b1aa0fd9111c2090\", '\n",
      "                             '\"artifact_path\": \"logistic_model\", '\n",
      "                             '\"utc_time_created\": \"2023-04-16 '\n",
      "                             '20:30:08.801700\", \"flavors\": {\"python_function\": '\n",
      "                             '{\"model_path\": \"model.pkl\", \"predict_fn\": '\n",
      "                             '\"predict\", \"loader_module\": \"mlflow.sklearn\", '\n",
      "                             '\"python_version\": \"3.10.10\", \"env\": {\"conda\": '\n",
      "                             '\"conda.yaml\", \"virtualenv\": \"python_env.yaml\"}}, '\n",
      "                             '\"sklearn\": {\"pickled_model\": \"model.pkl\", '\n",
      "                             '\"sklearn_version\": \"1.2.2\", '\n",
      "                             '\"serialization_format\": \"cloudpickle\", \"code\": '\n",
      "                             'null}}, \"model_uuid\": '\n",
      "                             '\"0441e474c5df4878843ede39f84aeb3e\", '\n",
      "                             '\"mlflow_version\": \"2.2.2\"}]',\n",
      " 'mlflow.runName': 'wistful-fly-227',\n",
      " 'mlflow.source.name': '/opt/conda/lib/python3.10/site-packages/ipykernel_launcher.py',\n",
      " 'mlflow.source.type': 'LOCAL',\n",
      " 'mlflow.user': 'jovyan'}>\n"
     ]
    }
   ],
   "source": [
    "# Start a new run\n",
    "with mlflow.start_run():\n",
    "    print(mlflow.get_artifact_uri())\n",
    "    # Log parameters\n",
    "    mlflow.log_param(\"up_sampling\", \"True\")\n",
    "    \n",
    "    # Train the model\n",
    "    pipeline.fit(X_train, y_train)\n",
    "    \n",
    "    # Predict on the test set\n",
    "    y_pred = pipeline.predict(X_test)\n",
    "    \n",
    "    # Log metrics\n",
    "    mlflow.log_metric(\"accuracy\", pipeline.score(X_test, y_test))\n",
    "    mlflow.log_metric(\"precision\", classification_report(y_test, y_pred, output_dict=True)['1']['precision'])\n",
    "    mlflow.log_metric(\"recall\", classification_report(y_test, y_pred, output_dict=True)['1']['recall'])\n",
    "    \n",
    "    # Log the trained model\n",
    "    mlflow.sklearn.log_model(pipeline, \"logistic_model\")\n",
    "    \n",
    "    # Get the run ID\n",
    "    run_id = mlflow.active_run().info.run_id\n",
    "    \n",
    "    # Get the experiment ID\n",
    "    experiment_id = client.get_experiment_by_name(\"my_experiment\").experiment_id\n",
    "    \n",
    "    # Get the run details\n",
    "    run_details = client.get_run(run_id).data\n",
    "    \n",
    "    # Print the experiment ID, run ID, and run details\n",
    "    print(f\"Experiment ID: {experiment_id}\")\n",
    "    print(f\"Run ID: {run_id}\")\n",
    "    print(f\"Run Details: {run_details}\")"
   ]
  },
  {
   "cell_type": "code",
   "execution_count": 12,
   "id": "061f711e-3065-48bb-b805-cea7c51ee465",
   "metadata": {},
   "outputs": [
    {
     "name": "stdout",
     "output_type": "stream",
     "text": [
      "Requirement already satisfied: hyperopt in /opt/conda/lib/python3.10/site-packages (0.2.7)\n",
      "Requirement already satisfied: networkx>=2.2 in /opt/conda/lib/python3.10/site-packages (from hyperopt) (3.1)\n",
      "Requirement already satisfied: six in /opt/conda/lib/python3.10/site-packages (from hyperopt) (1.16.0)\n",
      "Requirement already satisfied: scipy in /opt/conda/lib/python3.10/site-packages (from hyperopt) (1.10.1)\n",
      "Requirement already satisfied: future in /opt/conda/lib/python3.10/site-packages (from hyperopt) (0.18.3)\n",
      "Requirement already satisfied: tqdm in /opt/conda/lib/python3.10/site-packages (from hyperopt) (4.65.0)\n",
      "Requirement already satisfied: numpy in /opt/conda/lib/python3.10/site-packages (from hyperopt) (1.23.5)\n",
      "Requirement already satisfied: py4j in /opt/conda/lib/python3.10/site-packages (from hyperopt) (0.10.9.7)\n",
      "Requirement already satisfied: cloudpickle in /opt/conda/lib/python3.10/site-packages (from hyperopt) (2.2.1)\n",
      "100%|██████████| 50/50 [02:11<00:00,  2.62s/trial, best loss: -0.84] \n"
     ]
    }
   ],
   "source": [
    "!pip install hyperopt\n",
    "import hyperopt\n",
    "from hyperopt import hp, fmin, tpe, STATUS_OK, Trials\n",
    "from sklearn.datasets import make_classification\n",
    "from sklearn.model_selection import train_test_split\n",
    "from sklearn.pipeline import Pipeline\n",
    "from sklearn.linear_model import LogisticRegression\n",
    "from sklearn.metrics import classification_report\n",
    "import mlflow.sklearn\n",
    "\n",
    "# Define the search space\n",
    "space = {\n",
    "    'penalty': hp.choice('penalty', ['l2']),\n",
    "    'C': hp.loguniform('C', -10, 10),\n",
    "    'fit_intercept': hp.choice('fit_intercept', [True, False]),\n",
    "    'solver': hp.choice('solver', ['newton-cg', 'lbfgs', 'liblinear', 'sag', 'saga'])\n",
    "}\n",
    "\n",
    "# Define the objective function\n",
    "def objective(params):\n",
    "    pipeline = Pipeline([\n",
    "        ('clf', LogisticRegression(**params))\n",
    "    ])\n",
    "    \n",
    "    pipeline.fit(X_train, y_train)\n",
    "    \n",
    "    y_pred = pipeline.predict(X_test)\n",
    "    \n",
    "    accuracy = pipeline.score(X_test, y_test)\n",
    "    precision = classification_report(y_test, y_pred, output_dict=True)['1']['precision']\n",
    "    recall = classification_report(y_test, y_pred, output_dict=True)['1']['recall']\n",
    "    \n",
    "    # Log metrics\n",
    "    with mlflow.start_run():\n",
    "        mlflow.log_params(params)\n",
    "        mlflow.log_metric(\"accuracy\", accuracy)\n",
    "        mlflow.log_metric(\"precision\", precision)\n",
    "        mlflow.log_metric(\"recall\", recall)\n",
    "        \n",
    "        # Log the trained model\n",
    "        mlflow.sklearn.log_model(pipeline, \"logistic_model\")\n",
    "        \n",
    "        return {'loss': -accuracy, 'status': STATUS_OK}\n",
    "\n",
    "# Generate mock data\n",
    "X, y = make_classification(n_samples=1000, n_features=10, n_informative=5, random_state=42)\n",
    "X_train, X_test, y_train, y_test = train_test_split(X, y, test_size=0.2, random_state=42)\n",
    "\n",
    "# Define the trials object\n",
    "trials = Trials()\n",
    "\n",
    "# Run the hyperparameter search\n",
    "best = fmin(fn=objective,\n",
    "            space=space,\n",
    "            algo=tpe.suggest,\n",
    "            max_evals=50,\n",
    "            trials=trials)\n",
    "\n",
    "# Get the best hyperparameters\n",
    "best_params = hyperopt.space_eval(space, best)\n",
    "\n",
    "# Train the model with the best hyperparameters\n",
    "best_pipeline = Pipeline([\n",
    "    ('clf', LogisticRegression(**best_params))\n",
    "])\n",
    "\n",
    "best_pipeline.fit(X_train, y_train)\n",
    "\n",
    "# Log the best model\n",
    "with mlflow.start_run():\n",
    "    mlflow.log_params(best_params)\n",
    "    mlflow.sklearn.log_model(best_pipeline, \"best_logistic_model\")\n",
    "\n"
   ]
  },
  {
   "cell_type": "code",
   "execution_count": null,
   "id": "7e5d75ad-eb2d-4cf0-a935-281e48c67e29",
   "metadata": {},
   "outputs": [],
   "source": []
  }
 ],
 "metadata": {
  "kernelspec": {
   "display_name": "Python 3 (ipykernel)",
   "language": "python",
   "name": "python3"
  },
  "language_info": {
   "codemirror_mode": {
    "name": "ipython",
    "version": 3
   },
   "file_extension": ".py",
   "mimetype": "text/x-python",
   "name": "python",
   "nbconvert_exporter": "python",
   "pygments_lexer": "ipython3",
   "version": "3.10.10"
  }
 },
 "nbformat": 4,
 "nbformat_minor": 5
}
