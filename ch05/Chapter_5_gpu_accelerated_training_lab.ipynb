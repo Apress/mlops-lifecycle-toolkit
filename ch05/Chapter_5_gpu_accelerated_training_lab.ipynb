{
  "nbformat": 4,
  "nbformat_minor": 0,
  "metadata": {
    "colab": {
      "provenance": []
    },
    "kernelspec": {
      "name": "python3",
      "display_name": "Python 3"
    },
    "language_info": {
      "name": "python"
    }
  },
  "cells": [
    {
      "cell_type": "code",
      "source": [
        "import tensorflow as tf\n",
        "\n",
        "# Create a simple neural network model\n",
        "model = tf.keras.Sequential([\n",
        "    tf.keras.layers.Dense(64, activation='relu'),\n",
        "    tf.keras.layers.Dense(10)\n",
        "])\n",
        "\n",
        "# Load data\n",
        "(x_train, y_train), (x_test, y_test) = tf.keras.datasets.mnist.load_data()\n",
        "\n",
        "# Preprocess data\n",
        "x_train = x_train.reshape(60000, 784).astype('float32') / 255\n",
        "x_test = x_test.reshape(10000, 784).astype('float32') / 255\n",
        "y_train = tf.keras.utils.to_categorical(y_train, num_classes=10)\n",
        "y_test = tf.keras.utils.to_categorical(y_test, num_classes=10)\n",
        "\n",
        "# Compile model\n",
        "model.compile(loss=tf.keras.losses.CategoricalCrossentropy(from_logits=True),\n",
        "              optimizer=tf.keras.optimizers.RMSprop(),\n",
        "              metrics=['accuracy'])\n",
        "\n",
        "# Train model with GPU acceleration\n",
        "with tf.device('/GPU:0'):\n",
        "    history = model.fit(x_train, y_train, epochs=10, batch_size=128, validation_data=(x_test, y_test))\n",
        "\n"
      ],
      "metadata": {
        "colab": {
          "base_uri": "https://localhost:8080/"
        },
        "id": "zFnMfFymnps6",
        "outputId": "84f74699-1a87-4958-aee4-d3a2d970ab6a"
      },
      "execution_count": 1,
      "outputs": [
        {
          "output_type": "stream",
          "name": "stdout",
          "text": [
            "Downloading data from https://storage.googleapis.com/tensorflow/tf-keras-datasets/mnist.npz\n",
            "11490434/11490434 [==============================] - 0s 0us/step\n",
            "Epoch 1/10\n",
            "469/469 [==============================] - 12s 20ms/step - loss: 0.3952 - accuracy: 0.8920 - val_loss: 0.2299 - val_accuracy: 0.9347\n",
            "Epoch 2/10\n",
            "469/469 [==============================] - 3s 6ms/step - loss: 0.1999 - accuracy: 0.9437 - val_loss: 0.1791 - val_accuracy: 0.9487\n",
            "Epoch 3/10\n",
            "469/469 [==============================] - 3s 6ms/step - loss: 0.1513 - accuracy: 0.9563 - val_loss: 0.1384 - val_accuracy: 0.9585\n",
            "Epoch 4/10\n",
            "469/469 [==============================] - 2s 4ms/step - loss: 0.1215 - accuracy: 0.9654 - val_loss: 0.1174 - val_accuracy: 0.9657\n",
            "Epoch 5/10\n",
            "469/469 [==============================] - 2s 4ms/step - loss: 0.1030 - accuracy: 0.9708 - val_loss: 0.1047 - val_accuracy: 0.9699\n",
            "Epoch 6/10\n",
            "469/469 [==============================] - 3s 7ms/step - loss: 0.0889 - accuracy: 0.9743 - val_loss: 0.0972 - val_accuracy: 0.9719\n",
            "Epoch 7/10\n",
            "469/469 [==============================] - 3s 7ms/step - loss: 0.0789 - accuracy: 0.9776 - val_loss: 0.0914 - val_accuracy: 0.9722\n",
            "Epoch 8/10\n",
            "469/469 [==============================] - 2s 5ms/step - loss: 0.0695 - accuracy: 0.9798 - val_loss: 0.0916 - val_accuracy: 0.9727\n",
            "Epoch 9/10\n",
            "469/469 [==============================] - 2s 4ms/step - loss: 0.0638 - accuracy: 0.9818 - val_loss: 0.0907 - val_accuracy: 0.9728\n",
            "Epoch 10/10\n",
            "469/469 [==============================] - 2s 4ms/step - loss: 0.0585 - accuracy: 0.9829 - val_loss: 0.0889 - val_accuracy: 0.9737\n"
          ]
        }
      ]
    }
  ]
}