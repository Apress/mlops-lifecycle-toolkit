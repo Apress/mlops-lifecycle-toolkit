{
  "nbformat": 4,
  "nbformat_minor": 0,
  "metadata": {
    "colab": {
      "provenance": []
    },
    "kernelspec": {
      "name": "python3",
      "display_name": "Python 3"
    },
    "language_info": {
      "name": "python"
    }
  },
  "cells": [
    {
      "cell_type": "code",
      "source": [
        "!pip install faker"
      ],
      "metadata": {
        "colab": {
          "base_uri": "https://localhost:8080/"
        },
        "id": "1vF957LkFlO1",
        "outputId": "39247599-3b93-4d90-9938-bd0f08a456ea"
      },
      "execution_count": 3,
      "outputs": [
        {
          "output_type": "stream",
          "name": "stdout",
          "text": [
            "Looking in indexes: https://pypi.org/simple, https://us-python.pkg.dev/colab-wheels/public/simple/\n",
            "Collecting faker\n",
            "  Downloading Faker-18.3.1-py3-none-any.whl (1.7 MB)\n",
            "\u001b[2K     \u001b[90m━━━━━━━━━━━━━━━━━━━━━━━━━━━━━━━━━━━━━━━━\u001b[0m \u001b[32m1.7/1.7 MB\u001b[0m \u001b[31m16.2 MB/s\u001b[0m eta \u001b[36m0:00:00\u001b[0m\n",
            "\u001b[?25hRequirement already satisfied: python-dateutil>=2.4 in /usr/local/lib/python3.9/dist-packages (from faker) (2.8.2)\n",
            "Requirement already satisfied: six>=1.5 in /usr/local/lib/python3.9/dist-packages (from python-dateutil>=2.4->faker) (1.16.0)\n",
            "Installing collected packages: faker\n",
            "Successfully installed faker-18.3.1\n"
          ]
        }
      ]
    },
    {
      "cell_type": "markdown",
      "source": [],
      "metadata": {
        "id": "ulFnGzrUFk_6"
      }
    },
    {
      "cell_type": "code",
      "execution_count": 36,
      "metadata": {
        "id": "4FYAxReBFh6i"
      },
      "outputs": [],
      "source": [
        "from faker import Faker\n",
        "import pandas as pd\n",
        "import random\n",
        "\n",
        "class SensorDataGenerator:\n",
        "  \"\"\"\n",
        "  Data Science data generator for industry\n",
        "  specific examples used in the \n",
        "  MLOps Lifecycle Toolkit Examples.\n",
        "  \"\"\"\n",
        "  def __init__(self, num_rows):\n",
        "    self.num = num_rows \n",
        "    self.fake = Faker()\n",
        "\n",
        "  def create_dataset(self):\n",
        "    \"\"\"\n",
        "    Healthcare data set\n",
        "    \"\"\"\n",
        "    output = [{\"component_id\": random.randint(1,20),\n",
        "                  \"latitude\": self.fake.latitude(),\n",
        "                  \"longitude\": self.fake.longitude(),\n",
        "                  \"timestamp\": self.fake.date_time(),\n",
        "                  \"pressure\":random.randint(1000,2000),\n",
        "                  \"temperature\": random.randint(1000,2000)} for x in range(self.num)]\n",
        "    return pd.DataFrame(output)\n"
      ]
    },
    {
      "cell_type": "code",
      "source": [
        "data_driver = SensorDataGenerator(num_rows=1000)\n",
        "sensor_df = data_driver.create_dataset()"
      ],
      "metadata": {
        "id": "B8-uXIYtFj8K"
      },
      "execution_count": 37,
      "outputs": []
    },
    {
      "cell_type": "code",
      "source": [
        "sensor_df.to_parquet(path=\"/content/sample_data/test.parquet\")"
      ],
      "metadata": {
        "id": "qA3jnT6SGCKC"
      },
      "execution_count": 44,
      "outputs": []
    },
    {
      "cell_type": "code",
      "source": [],
      "metadata": {
        "id": "TL158_N0GR_q"
      },
      "execution_count": null,
      "outputs": []
    }
  ]
}