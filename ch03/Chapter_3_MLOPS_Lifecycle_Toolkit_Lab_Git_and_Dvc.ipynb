{
  "nbformat": 4,
  "nbformat_minor": 0,
  "metadata": {
    "colab": {
      "provenance": []
    },
    "kernelspec": {
      "name": "python3",
      "display_name": "Python 3"
    },
    "language_info": {
      "name": "python"
    }
  },
  "cells": [
    {
      "cell_type": "markdown",
      "source": [
        "## MLOps Lifecycle Toolkit Chapter 2 Lab:\n",
        "* [Basic Git Commands](#writing-math)\n",
        "* [Creating Feature Branches and Pull Requests](#logistic-classifier)\n",
        "* [Git Internals](#installing-packages)\n",
        "* [Cloning Remote Repositories](#bayesian-example)\n",
        "* [Troubleshooting Git Issues with Stash and Blame](#vectorizing-functions)\n"
      ],
      "metadata": {
        "id": "6WWkczDoU0CI"
      }
    },
    {
      "cell_type": "markdown",
      "source": [
        "## Basic Git Commands <a class=\"anchor\" id=\"basic-git-commands\"></a>\n",
        "\n",
        "\n",
        "There are several basic git commands used in data science. Let's go through a few. It's recommended to copy each of these commands in a termal within vs code but you can also run them in a notebook.\n",
        "\n",
        "* Important: If you copy them in a terminal, remove the ! notebook magic at the start of the command * \n",
        "\n"
      ],
      "metadata": {
        "id": "_hYIwtlmcVIU"
      }
    },
    {
      "cell_type": "code",
      "source": [
        "!ls"
      ],
      "metadata": {
        "colab": {
          "base_uri": "https://localhost:8080/"
        },
        "id": "FMGpH9jl9L2Q",
        "outputId": "325a6e15-4fee-432d-db02-391d1bba14b6"
      },
      "execution_count": 44,
      "outputs": [
        {
          "output_type": "stream",
          "name": "stdout",
          "text": [
            "my_first_change.py  my_first_repo  new_file.txt  sample_data\n"
          ]
        }
      ]
    },
    {
      "cell_type": "code",
      "source": [
        "!mkdir my_first_repo/ && ls "
      ],
      "metadata": {
        "colab": {
          "base_uri": "https://localhost:8080/"
        },
        "id": "O5Rk_ruh9Oje",
        "outputId": "b615396b-bcc9-442c-9b7d-1fb121f48108"
      },
      "execution_count": 45,
      "outputs": [
        {
          "output_type": "stream",
          "name": "stdout",
          "text": [
            "mkdir: cannot create directory ‘my_first_repo/’: File exists\n"
          ]
        }
      ]
    },
    {
      "cell_type": "code",
      "source": [
        "!cd my_first_repo"
      ],
      "metadata": {
        "id": "6glCeCwg9VJq"
      },
      "execution_count": 46,
      "outputs": []
    },
    {
      "cell_type": "markdown",
      "source": [
        "When you run git init, git creates the .git directory a hidden directory where all of the work is done internally such as storing and updating snapshots."
      ],
      "metadata": {
        "id": "C8UGUd0s8BXX"
      }
    },
    {
      "cell_type": "code",
      "source": [
        "!git init"
      ],
      "metadata": {
        "colab": {
          "base_uri": "https://localhost:8080/"
        },
        "id": "JN4z6FTda8Ni",
        "outputId": "86762242-9188-413d-ebe0-b3b20eb207ff"
      },
      "execution_count": 47,
      "outputs": [
        {
          "output_type": "stream",
          "name": "stdout",
          "text": [
            "Reinitialized existing Git repository in /content/.git/\n"
          ]
        }
      ]
    },
    {
      "cell_type": "markdown",
      "source": [
        "We can use git status command to take a look at untracked files "
      ],
      "metadata": {
        "id": "w-4T8lVy9ZRb"
      }
    },
    {
      "cell_type": "code",
      "source": [
        "!git status"
      ],
      "metadata": {
        "colab": {
          "base_uri": "https://localhost:8080/"
        },
        "id": "iLN0Vcio4IA6",
        "outputId": "92ea767c-475f-453a-e31d-0858b86b17c0"
      },
      "execution_count": 48,
      "outputs": [
        {
          "output_type": "stream",
          "name": "stdout",
          "text": [
            "On branch MLOPS-feature-branch-101\n",
            "Untracked files:\n",
            "  (use \"git add <file>...\" to include in what will be committed)\n",
            "\t\u001b[31m.config/\u001b[m\n",
            "\t\u001b[31msample_data/\u001b[m\n",
            "\n",
            "nothing added to commit but untracked files present (use \"git add\" to track)\n"
          ]
        }
      ]
    },
    {
      "cell_type": "markdown",
      "source": [
        "## Create a new branch called MLOPS-feature-branch-101. "
      ],
      "metadata": {
        "id": "v1yj4oTL4OOb"
      }
    },
    {
      "cell_type": "code",
      "source": [
        "!git checkout -b MLOPS-feature-branch-101"
      ],
      "metadata": {
        "colab": {
          "base_uri": "https://localhost:8080/"
        },
        "id": "XGV1HGO14Kaa",
        "outputId": "10576f71-820b-48c9-dead-8c2645719844"
      },
      "execution_count": 49,
      "outputs": [
        {
          "output_type": "stream",
          "name": "stdout",
          "text": [
            "fatal: A branch named 'MLOPS-feature-branch-101' already exists.\n"
          ]
        }
      ]
    },
    {
      "cell_type": "code",
      "source": [
        "!git branch"
      ],
      "metadata": {
        "id": "5TdT2NGt9gCS",
        "colab": {
          "base_uri": "https://localhost:8080/"
        },
        "outputId": "57d3f773-1fdd-4af4-e94e-0755a1d0b633"
      },
      "execution_count": 51,
      "outputs": [
        {
          "output_type": "stream",
          "name": "stdout",
          "text": [
            "* \u001b[32mMLOPS-feature-branch-101\u001b[m\n"
          ]
        }
      ]
    },
    {
      "cell_type": "markdown",
      "source": [
        "# Let's look at the history of commits"
      ],
      "metadata": {
        "id": "LLwKTccb9mrW"
      }
    },
    {
      "cell_type": "code",
      "source": [
        "!git log"
      ],
      "metadata": {
        "colab": {
          "base_uri": "https://localhost:8080/"
        },
        "id": "7UmMvNiLeVfm",
        "outputId": "abd998c9-5fdb-4ade-d4d5-5adb0eb2f97c"
      },
      "execution_count": 52,
      "outputs": [
        {
          "output_type": "stream",
          "name": "stdout",
          "text": [
            "\u001b[33mcommit 7a3684695da79d9633f337f8d4069d6eda76eba5\u001b[m\u001b[33m (\u001b[m\u001b[1;36mHEAD -> \u001b[m\u001b[1;32mMLOPS-feature-branch-101\u001b[m\u001b[33m)\u001b[m\n",
            "Author: Your Name <you@example.com>\n",
            "Date:   Sun Mar 19 22:04:46 2023 +0000\n",
            "\n",
            "    feat: new file\n",
            "\n",
            "\u001b[33mcommit be77e1e22db79e39e50aa383e34e031627db4905\u001b[m\n",
            "Author: Your Name <you@example.com>\n",
            "Date:   Sun Mar 19 22:02:51 2023 +0000\n",
            "\n",
            "    feat: my first commit.\n"
          ]
        }
      ]
    },
    {
      "cell_type": "markdown",
      "source": [
        "## There's no commits yet. Lets make a change to a file before running the git commit to commit your changes."
      ],
      "metadata": {
        "id": "IN06p3FA4e3-"
      }
    },
    {
      "cell_type": "code",
      "source": [
        "!touch my_first_change.py && echo \"print(Hello World!)\" >> my_first_change.py"
      ],
      "metadata": {
        "id": "DOHC2JXD9qqX"
      },
      "execution_count": 53,
      "outputs": []
    },
    {
      "cell_type": "markdown",
      "source": [],
      "metadata": {
        "id": "P9ag-Y2O4c-x"
      }
    },
    {
      "cell_type": "code",
      "source": [
        "!git status"
      ],
      "metadata": {
        "colab": {
          "base_uri": "https://localhost:8080/"
        },
        "id": "v6Tl79gp-Av4",
        "outputId": "658ebb57-40d1-46f0-cf25-fe4437a5eb8a"
      },
      "execution_count": 54,
      "outputs": [
        {
          "output_type": "stream",
          "name": "stdout",
          "text": [
            "On branch MLOPS-feature-branch-101\n",
            "Changes not staged for commit:\n",
            "  (use \"git add <file>...\" to update what will be committed)\n",
            "  (use \"git restore <file>...\" to discard changes in working directory)\n",
            "\t\u001b[31mmodified:   my_first_change.py\u001b[m\n",
            "\n",
            "Untracked files:\n",
            "  (use \"git add <file>...\" to include in what will be committed)\n",
            "\t\u001b[31m.config/\u001b[m\n",
            "\t\u001b[31msample_data/\u001b[m\n",
            "\n",
            "no changes added to commit (use \"git add\" and/or \"git commit -a\")\n"
          ]
        }
      ]
    },
    {
      "cell_type": "markdown",
      "source": [
        "## Notice, you can see your change in untracked changes. We need to add it to the stage using git add first."
      ],
      "metadata": {
        "id": "kuE77kg_-DfE"
      }
    },
    {
      "cell_type": "code",
      "source": [
        "!git add my_first_change.py"
      ],
      "metadata": {
        "id": "VzNZaHU8-Iy3"
      },
      "execution_count": 55,
      "outputs": []
    },
    {
      "cell_type": "code",
      "source": [
        "!git status"
      ],
      "metadata": {
        "colab": {
          "base_uri": "https://localhost:8080/"
        },
        "id": "1lXAsaV_-Lt8",
        "outputId": "07f52144-afe1-4045-8de8-31550787d814"
      },
      "execution_count": 56,
      "outputs": [
        {
          "output_type": "stream",
          "name": "stdout",
          "text": [
            "On branch MLOPS-feature-branch-101\n",
            "Changes to be committed:\n",
            "  (use \"git restore --staged <file>...\" to unstage)\n",
            "\t\u001b[32mmodified:   my_first_change.py\u001b[m\n",
            "\n",
            "Untracked files:\n",
            "  (use \"git add <file>...\" to include in what will be committed)\n",
            "\t\u001b[31m.config/\u001b[m\n",
            "\t\u001b[31msample_data/\u001b[m\n",
            "\n"
          ]
        }
      ]
    },
    {
      "cell_type": "markdown",
      "source": [
        "## Let's try to unstage this file to demonstrate what git add did "
      ],
      "metadata": {
        "id": "-9WNAjJE8YCX"
      }
    },
    {
      "cell_type": "code",
      "source": [
        "!git rm --cached my_first_change.py && git status"
      ],
      "metadata": {
        "colab": {
          "base_uri": "https://localhost:8080/"
        },
        "id": "eC8SPe3b8cxJ",
        "outputId": "73b5d9d1-bb95-4a02-8b14-d1bdb17826e5"
      },
      "execution_count": 57,
      "outputs": [
        {
          "output_type": "stream",
          "name": "stdout",
          "text": [
            "rm 'my_first_change.py'\n",
            "On branch MLOPS-feature-branch-101\n",
            "Changes to be committed:\n",
            "  (use \"git restore --staged <file>...\" to unstage)\n",
            "\t\u001b[32mdeleted:    my_first_change.py\u001b[m\n",
            "\n",
            "Untracked files:\n",
            "  (use \"git add <file>...\" to include in what will be committed)\n",
            "\t\u001b[31m.config/\u001b[m\n",
            "\t\u001b[31mmy_first_change.py\u001b[m\n",
            "\t\u001b[31msample_data/\u001b[m\n",
            "\n"
          ]
        }
      ]
    },
    {
      "cell_type": "code",
      "source": [
        "!git add my_first_change.py && git status"
      ],
      "metadata": {
        "colab": {
          "base_uri": "https://localhost:8080/"
        },
        "id": "OZMqHCno8gws",
        "outputId": "8e361d0b-d9d3-4e55-a6a6-bba86086685c"
      },
      "execution_count": 58,
      "outputs": [
        {
          "output_type": "stream",
          "name": "stdout",
          "text": [
            "On branch MLOPS-feature-branch-101\n",
            "Changes to be committed:\n",
            "  (use \"git restore --staged <file>...\" to unstage)\n",
            "\t\u001b[32mmodified:   my_first_change.py\u001b[m\n",
            "\n",
            "Untracked files:\n",
            "  (use \"git add <file>...\" to include in what will be committed)\n",
            "\t\u001b[31m.config/\u001b[m\n",
            "\t\u001b[31msample_data/\u001b[m\n",
            "\n"
          ]
        }
      ]
    },
    {
      "cell_type": "markdown",
      "source": [
        "What happened? We added it to the stage. We can folow a standard called conventional commit messaging for the messages."
      ],
      "metadata": {
        "id": "0N3mahna-Qyj"
      }
    },
    {
      "cell_type": "code",
      "source": [
        "!git commit my_first_change.py -m 'feat: This is my first commit'"
      ],
      "metadata": {
        "colab": {
          "base_uri": "https://localhost:8080/"
        },
        "id": "lCmjC-jL4YES",
        "outputId": "ee5df069-24c1-4265-f0f7-1d56b047af29"
      },
      "execution_count": 60,
      "outputs": [
        {
          "output_type": "stream",
          "name": "stdout",
          "text": [
            "On branch MLOPS-feature-branch-101\n",
            "Untracked files:\n",
            "  (use \"git add <file>...\" to include in what will be committed)\n",
            "\t\u001b[31m.config/\u001b[m\n",
            "\t\u001b[31msample_data/\u001b[m\n",
            "\n",
            "nothing added to commit but untracked files present (use \"git add\" to track)\n"
          ]
        }
      ]
    },
    {
      "cell_type": "markdown",
      "source": [
        "## Whoops! We get an error since this is your first time using git you need to set your user & email"
      ],
      "metadata": {
        "id": "QHy4VJIW-cU7"
      }
    },
    {
      "cell_type": "code",
      "source": [
        "  !git config --global user.email \"you@example.com\"\n",
        "  !git config --global user.name \"Your Name\""
      ],
      "metadata": {
        "id": "mMbUelZ6-iW5"
      },
      "execution_count": 61,
      "outputs": []
    },
    {
      "cell_type": "markdown",
      "source": [
        "## Let's commit one more time"
      ],
      "metadata": {
        "id": "a_0j5xCV-ncF"
      }
    },
    {
      "cell_type": "code",
      "source": [
        "!git commit my_first_change.py -m \"feat: my first commit.\""
      ],
      "metadata": {
        "colab": {
          "base_uri": "https://localhost:8080/"
        },
        "id": "OXsMmLOy-pJZ",
        "outputId": "8a791fa3-7785-4a3b-871c-08b58bad97bf"
      },
      "execution_count": 62,
      "outputs": [
        {
          "output_type": "stream",
          "name": "stdout",
          "text": [
            "On branch MLOPS-feature-branch-101\n",
            "Untracked files:\n",
            "  (use \"git add <file>...\" to include in what will be committed)\n",
            "\t\u001b[31m.config/\u001b[m\n",
            "\t\u001b[31msample_data/\u001b[m\n",
            "\n",
            "nothing added to commit but untracked files present (use \"git add\" to track)\n"
          ]
        }
      ]
    },
    {
      "cell_type": "markdown",
      "source": [
        "## Let's check if we have any remotes before pushing our changes."
      ],
      "metadata": {
        "id": "1UAuo4As5eqr"
      }
    },
    {
      "cell_type": "code",
      "source": [
        "!git remote -v "
      ],
      "metadata": {
        "id": "eJNOceROAoIn"
      },
      "execution_count": 63,
      "outputs": []
    },
    {
      "cell_type": "markdown",
      "source": [
        "## Set upstream changes on your remote branch "
      ],
      "metadata": {
        "id": "2knrSytZ5vWy"
      }
    },
    {
      "cell_type": "code",
      "source": [
        "!git branch --set-upstream-to=<remote>/<branch> MLOPS-feature-branch-101"
      ],
      "metadata": {
        "colab": {
          "base_uri": "https://localhost:8080/"
        },
        "id": "92meMt5H5tBs",
        "outputId": "d807bc7c-b27c-4c4d-b48a-6f2e35b23817"
      },
      "execution_count": 64,
      "outputs": [
        {
          "output_type": "stream",
          "name": "stdout",
          "text": [
            "/bin/bash: remote: No such file or directory\n"
          ]
        }
      ]
    },
    {
      "cell_type": "markdown",
      "source": [
        "## You should try to do a pull before you push as there could be upstream changes. You may need to handle merge conflicts here."
      ],
      "metadata": {
        "id": "AM4nElBZ5hfR"
      }
    },
    {
      "cell_type": "code",
      "source": [
        "!git pull "
      ],
      "metadata": {
        "colab": {
          "base_uri": "https://localhost:8080/"
        },
        "id": "sronH76N5n8h",
        "outputId": "371c3776-5b40-4068-c9c2-1b907afd782a"
      },
      "execution_count": 65,
      "outputs": [
        {
          "output_type": "stream",
          "name": "stdout",
          "text": [
            "There is no tracking information for the current branch.\n",
            "Please specify which branch you want to merge with.\n",
            "See git-pull(1) for details.\n",
            "\n",
            "    git pull <remote> <branch>\n",
            "\n",
            "If you wish to set tracking information for this branch you can do so with:\n",
            "\n",
            "    git branch --set-upstream-to=<remote>/<branch> MLOPS-feature-branch-101\n",
            "\n"
          ]
        }
      ]
    },
    {
      "cell_type": "code",
      "source": [
        "!git push -u origin main"
      ],
      "metadata": {
        "colab": {
          "base_uri": "https://localhost:8080/"
        },
        "id": "DA07dbV_E2Yu",
        "outputId": "4b7a6789-48f2-4ef5-d29d-c88f9d97d13c"
      },
      "execution_count": 30,
      "outputs": [
        {
          "output_type": "stream",
          "name": "stdout",
          "text": [
            "error: src refspec main does not match any\n",
            "\u001b[31merror: failed to push some refs to 'origin'\n",
            "\u001b[m"
          ]
        }
      ]
    },
    {
      "cell_type": "markdown",
      "source": [
        "## Let's check the log again, can you see your new commit?\n",
        "\n",
        "---\n",
        "\n"
      ],
      "metadata": {
        "id": "ZVygeANp4jbo"
      }
    },
    {
      "cell_type": "code",
      "source": [
        "!git log"
      ],
      "metadata": {
        "colab": {
          "base_uri": "https://localhost:8080/"
        },
        "id": "ybQOEhF34mHJ",
        "outputId": "6c06d310-1f3c-4cb7-a601-17160ae67ee8"
      },
      "execution_count": null,
      "outputs": [
        {
          "output_type": "stream",
          "name": "stdout",
          "text": [
            "\u001b[33mcommit 0ac75c7d59f8a9a2b8bcc316dbf53f68e090720a\u001b[m\u001b[33m (\u001b[m\u001b[1;36mHEAD -> \u001b[m\u001b[1;32mMLOPS-feature-branch-101\u001b[m\u001b[33m)\u001b[m\n",
            "Author: Your Name <you@example.com>\n",
            "Date:   Sat Mar 18 23:12:16 2023 +0000\n",
            "\n",
            "    feat: my first commit.\n"
          ]
        }
      ]
    },
    {
      "cell_type": "markdown",
      "source": [
        "## Git Internals"
      ],
      "metadata": {
        "id": "j6A7zAZd4zcS"
      }
    },
    {
      "cell_type": "markdown",
      "source": [
        "## Let's look at what's inside the .git directory. We can see branches, HEAD, hooks, index , refs and objects. All important hidden directories."
      ],
      "metadata": {
        "id": "fNH6wTYA--Bp"
      }
    },
    {
      "cell_type": "code",
      "source": [
        "!ls -la .git"
      ],
      "metadata": {
        "colab": {
          "base_uri": "https://localhost:8080/"
        },
        "id": "acCnOlyA41Fs",
        "outputId": "ea111a6b-815a-4b84-8536-2a644bdfc25c"
      },
      "execution_count": null,
      "outputs": [
        {
          "output_type": "stream",
          "name": "stdout",
          "text": [
            "total 44\n",
            "drwxr-xr-x 7 root root 4096 Mar 16 00:46 .\n",
            "drwxr-xr-x 1 root root 4096 Mar 16 00:44 ..\n",
            "drwxr-xr-x 2 root root 4096 Mar 16 00:44 branches\n",
            "-rw-r--r-- 1 root root   92 Mar 16 00:44 config\n",
            "-rw-r--r-- 1 root root   73 Mar 16 00:44 description\n",
            "-rw-r--r-- 1 root root   41 Mar 16 00:45 HEAD\n",
            "drwxr-xr-x 2 root root 4096 Mar 16 00:44 hooks\n",
            "-rw-r--r-- 1 root root   65 Mar 16 00:46 index\n",
            "drwxr-xr-x 2 root root 4096 Mar 16 00:44 info\n",
            "drwxr-xr-x 5 root root 4096 Mar 16 00:46 objects\n",
            "drwxr-xr-x 4 root root 4096 Mar 16 00:44 refs\n"
          ]
        }
      ]
    },
    {
      "cell_type": "markdown",
      "source": [
        "## Let's try a git porcelain command. This gives output of status command we already know in an easy to read format for scripts."
      ],
      "metadata": {
        "id": "6c0GVN4D6VqV"
      }
    },
    {
      "cell_type": "code",
      "source": [
        "!git status --porcelain "
      ],
      "metadata": {
        "colab": {
          "base_uri": "https://localhost:8080/"
        },
        "id": "W5_AXt2Q6Xor",
        "outputId": "50d302d0-1ab1-47e4-9e45-8f613463f933"
      },
      "execution_count": 69,
      "outputs": [
        {
          "output_type": "stream",
          "name": "stdout",
          "text": [
            "?? .config/\n",
            "?? sample_data/\n"
          ]
        }
      ]
    },
    {
      "cell_type": "markdown",
      "source": [
        "\n",
        "\n",
        "```\n",
        "# Cloning remote repositories"
      ],
      "metadata": {
        "id": "910p1OBfheVo"
      }
    },
    {
      "cell_type": "markdown",
      "source": [
        "We can clone public rpeos such as sckit-learn using the git clone command. Note, you should also create a Github account at this point and try forking this repo and cloning it under your own account.\n",
        "\n",
        "Instructions for setting up a Github account can be found: https://docs.github.com/en/get-started/signing-up-for-github/signing-up-for-a-new-github-account"
      ],
      "metadata": {
        "id": "w-C2K32A487-"
      }
    },
    {
      "cell_type": "code",
      "source": [
        "!git clone https://github.com/scikit-learn/scikit-learn.git"
      ],
      "metadata": {
        "colab": {
          "base_uri": "https://localhost:8080/"
        },
        "id": "KLT1uUIHhdYb",
        "outputId": "6de0147d-070f-4ead-cda5-297a1c37a90d"
      },
      "execution_count": 71,
      "outputs": [
        {
          "output_type": "stream",
          "name": "stdout",
          "text": [
            "fatal: destination path 'scikit-learn' already exists and is not an empty directory.\n"
          ]
        }
      ]
    },
    {
      "cell_type": "markdown",
      "source": [
        "## What did git clone do? Let's list files in our working directory. Do you notice anything different?"
      ],
      "metadata": {
        "id": "nDLQVnr9_-Xd"
      }
    },
    {
      "cell_type": "code",
      "source": [
        "!ls "
      ],
      "metadata": {
        "colab": {
          "base_uri": "https://localhost:8080/"
        },
        "id": "Dv9zoo8F_9H2",
        "outputId": "10867216-2a7c-4a97-9b7e-95d9115b56cd"
      },
      "execution_count": 72,
      "outputs": [
        {
          "output_type": "stream",
          "name": "stdout",
          "text": [
            "my_first_change.py  my_first_repo  new_file.txt  sample_data  scikit-learn\n"
          ]
        }
      ]
    },
    {
      "cell_type": "markdown",
      "source": [
        "# Let's cd (change directory) into the repo in this case it's called scikit-learn"
      ],
      "metadata": {
        "id": "NKodVM5e1nJr"
      }
    },
    {
      "cell_type": "code",
      "source": [
        "!cd scikit-learn && ls -la"
      ],
      "metadata": {
        "colab": {
          "base_uri": "https://localhost:8080/"
        },
        "id": "nnxdMY5fz6OZ",
        "outputId": "de8f0dc5-2952-43d7-8307-e69adf4a350c"
      },
      "execution_count": 73,
      "outputs": [
        {
          "output_type": "stream",
          "name": "stdout",
          "text": [
            "total 164\n",
            "drwxr-xr-x 13 root root  4096 Mar 19 22:20 .\n",
            "drwxr-xr-x  1 root root  4096 Mar 19 22:20 ..\n",
            "drwxr-xr-x  3 root root  4096 Mar 19 22:20 asv_benchmarks\n",
            "-rw-r--r--  1 root root  9830 Mar 19 22:20 azure-pipelines.yml\n",
            "drwxr-xr-x  2 root root  4096 Mar 19 22:20 benchmarks\n",
            "drwxr-xr-x  2 root root  4096 Mar 19 22:20 .binder\n",
            "drwxr-xr-x  7 root root  4096 Mar 19 22:20 build_tools\n",
            "drwxr-xr-x  2 root root  4096 Mar 19 22:20 .circleci\n",
            "-rw-r--r--  1 root root  1392 Mar 19 22:20 .cirrus.star\n",
            "-rw-r--r--  1 root root   921 Mar 19 22:20 .codecov.yml\n",
            "-rw-r--r--  1 root root   645 Mar 19 22:20 CODE_OF_CONDUCT.md\n",
            "-rw-r--r--  1 root root   388 Mar 19 22:20 conftest.py\n",
            "-rw-r--r--  1 root root  2109 Mar 19 22:20 CONTRIBUTING.md\n",
            "-rw-r--r--  1 root root  1532 Mar 19 22:20 COPYING\n",
            "-rw-r--r--  1 root root   150 Mar 19 22:20 .coveragerc\n",
            "drwxr-xr-x 16 root root  4096 Mar 19 22:20 doc\n",
            "drwxr-xr-x 33 root root  4096 Mar 19 22:20 examples\n",
            "drwxr-xr-x  8 root root  4096 Mar 19 22:20 .git\n",
            "-rw-r--r--  1 root root   844 Mar 19 22:20 .git-blame-ignore-revs\n",
            "drwxr-xr-x  5 root root  4096 Mar 19 22:20 .github\n",
            "-rw-r--r--  1 root root  1952 Mar 19 22:20 .gitignore\n",
            "-rw-r--r--  1 root root  7263 Mar 19 22:20 .mailmap\n",
            "drwxr-xr-x  2 root root  4096 Mar 19 22:20 maint_tools\n",
            "-rw-r--r--  1 root root  1567 Mar 19 22:20 Makefile\n",
            "-rw-r--r--  1 root root   971 Mar 19 22:20 MANIFEST.in\n",
            "-rw-r--r--  1 root root   547 Mar 19 22:20 .pre-commit-config.yaml\n",
            "-rw-r--r--  1 root root  1275 Mar 19 22:20 pyproject.toml\n",
            "-rw-r--r--  1 root root  7688 Mar 19 22:20 README.rst\n",
            "-rw-r--r--  1 root root   692 Mar 19 22:20 SECURITY.md\n",
            "-rw-r--r--  1 root root  3215 Mar 19 22:20 setup.cfg\n",
            "-rwxr-xr-x  1 root root 22622 Mar 19 22:20 setup.py\n",
            "drwxr-xr-x 32 root root  4096 Mar 19 22:20 sklearn\n"
          ]
        }
      ]
    },
    {
      "cell_type": "markdown",
      "source": [
        "## Troubleshooting Git Issues"
      ],
      "metadata": {
        "id": "IcqkHjRg1tNS"
      }
    },
    {
      "cell_type": "code",
      "source": [
        "!git remote -v "
      ],
      "metadata": {
        "id": "D33Y_PlO_jah"
      },
      "execution_count": 74,
      "outputs": []
    },
    {
      "cell_type": "code",
      "source": [
        "!git pull origin master "
      ],
      "metadata": {
        "colab": {
          "base_uri": "https://localhost:8080/"
        },
        "id": "8-rKD-aM3s7G",
        "outputId": "fa995d5b-da4b-4d8d-abee-319fcde7d677"
      },
      "execution_count": 75,
      "outputs": [
        {
          "output_type": "stream",
          "name": "stdout",
          "text": [
            "fatal: 'origin' does not appear to be a git repository\n",
            "fatal: Could not read from remote repository.\n",
            "\n",
            "Please make sure you have the correct access rights\n",
            "and the repository exists.\n"
          ]
        }
      ]
    },
    {
      "cell_type": "markdown",
      "source": [
        "# Oh no! There's conflicts, we can't pull remote changes. What do we do?"
      ],
      "metadata": {
        "id": "IECuf1Oc3vzV"
      }
    },
    {
      "cell_type": "markdown",
      "source": [
        "## You will need to stash your changes first."
      ],
      "metadata": {
        "id": "c0jjlO3X2Pbo"
      }
    },
    {
      "cell_type": "code",
      "source": [
        "!git stash"
      ],
      "metadata": {
        "colab": {
          "base_uri": "https://localhost:8080/"
        },
        "id": "_tPhD5Dj1yMC",
        "outputId": "137cbb76-b0c2-4a6b-ecec-fe6e0a3bddd2"
      },
      "execution_count": 76,
      "outputs": [
        {
          "output_type": "stream",
          "name": "stdout",
          "text": [
            "No local changes to save\n"
          ]
        }
      ]
    },
    {
      "cell_type": "markdown",
      "source": [
        "## Now try popping your changes back"
      ],
      "metadata": {
        "id": "QXpud2F-6K8N"
      }
    },
    {
      "cell_type": "code",
      "source": [
        "!git pop"
      ],
      "metadata": {
        "colab": {
          "base_uri": "https://localhost:8080/"
        },
        "id": "ieRnqJ3-6NHR",
        "outputId": "745c5616-b397-4395-816a-657511ef9107"
      },
      "execution_count": 77,
      "outputs": [
        {
          "output_type": "stream",
          "name": "stdout",
          "text": [
            "git: 'pop' is not a git command. See 'git --help'.\n",
            "\n",
            "The most similar command is\n",
            "\tlog\n"
          ]
        }
      ]
    },
    {
      "cell_type": "markdown",
      "source": [
        "## Finding who was responsible for introducing a bug to the README file. \n",
        "\n",
        "### We can use git blame command which works at the file level.\n",
        "\n",
        "> Indented block\n",
        "\n"
      ],
      "metadata": {
        "id": "RrXKJEYA2XKu"
      }
    },
    {
      "cell_type": "code",
      "source": [
        "!git blame README.MD"
      ],
      "metadata": {
        "colab": {
          "base_uri": "https://localhost:8080/"
        },
        "id": "K3gEiOn-2Vnd",
        "outputId": "a141163e-81e8-45fa-a2c7-fd8c6b8d97c3"
      },
      "execution_count": 78,
      "outputs": [
        {
          "output_type": "stream",
          "name": "stdout",
          "text": [
            "fatal: no such path 'README.MD' in HEAD\n"
          ]
        }
      ]
    },
    {
      "cell_type": "markdown",
      "source": [
        "# DVC Version Control"
      ],
      "metadata": {
        "id": "Zx9n6n2O9ptC"
      }
    },
    {
      "cell_type": "markdown",
      "source": [
        "First we need to install the dvc package on PyPi"
      ],
      "metadata": {
        "id": "1sz_ZdVG9vj3"
      }
    },
    {
      "cell_type": "code",
      "source": [
        "!pip install dvc "
      ],
      "metadata": {
        "colab": {
          "base_uri": "https://localhost:8080/"
        },
        "id": "yMAfoPEt9odK",
        "outputId": "e8710503-9ffc-4046-e8d4-fb8b738ed1a7"
      },
      "execution_count": 79,
      "outputs": [
        {
          "output_type": "stream",
          "name": "stdout",
          "text": [
            "Looking in indexes: https://pypi.org/simple, https://us-python.pkg.dev/colab-wheels/public/simple/\n",
            "Collecting dvc\n",
            "  Downloading dvc-2.50.0-py3-none-any.whl (411 kB)\n",
            "\u001b[2K     \u001b[90m━━━━━━━━━━━━━━━━━━━━━━━━━━━━━━━━━━━━━━━\u001b[0m \u001b[32m411.6/411.6 KB\u001b[0m \u001b[31m7.6 MB/s\u001b[0m eta \u001b[36m0:00:00\u001b[0m\n",
            "\u001b[?25hCollecting colorama>=0.3.9\n",
            "  Downloading colorama-0.4.6-py2.py3-none-any.whl (25 kB)\n",
            "Requirement already satisfied: requests>=2.22 in /usr/local/lib/python3.9/dist-packages (from dvc) (2.27.1)\n",
            "Requirement already satisfied: pyparsing>=2.4.7 in /usr/local/lib/python3.9/dist-packages (from dvc) (3.0.9)\n",
            "Requirement already satisfied: tabulate>=0.8.7 in /usr/local/lib/python3.9/dist-packages (from dvc) (0.8.10)\n",
            "Requirement already satisfied: tqdm<5,>=4.63.1 in /usr/local/lib/python3.9/dist-packages (from dvc) (4.65.0)\n",
            "Collecting grandalf<1,>=0.7\n",
            "  Downloading grandalf-0.8-py3-none-any.whl (41 kB)\n",
            "\u001b[2K     \u001b[90m━━━━━━━━━━━━━━━━━━━━━━━━━━━━━━━━━━━━━━━━\u001b[0m \u001b[32m41.8/41.8 KB\u001b[0m \u001b[31m3.7 MB/s\u001b[0m eta \u001b[36m0:00:00\u001b[0m\n",
            "\u001b[?25hCollecting pygtrie>=2.3.2\n",
            "  Downloading pygtrie-2.5.0-py3-none-any.whl (25 kB)\n",
            "Collecting dvc-studio-client<1,>=0.5.0\n",
            "  Downloading dvc_studio_client-0.6.1-py3-none-any.whl (9.8 kB)\n",
            "Collecting rich>=12\n",
            "  Downloading rich-13.3.2-py3-none-any.whl (238 kB)\n",
            "\u001b[2K     \u001b[90m━━━━━━━━━━━━━━━━━━━━━━━━━━━━━━━━━━━━━━\u001b[0m \u001b[32m238.7/238.7 KB\u001b[0m \u001b[31m21.8 MB/s\u001b[0m eta \u001b[36m0:00:00\u001b[0m\n",
            "\u001b[?25hCollecting dvc-http\n",
            "  Downloading dvc_http-2.30.2-py3-none-any.whl (12 kB)\n",
            "Collecting zc.lockfile>=1.2.1\n",
            "  Downloading zc.lockfile-3.0.post1-py3-none-any.whl (9.8 kB)\n",
            "Requirement already satisfied: packaging>=19 in /usr/local/lib/python3.9/dist-packages (from dvc) (23.0)\n",
            "Collecting scmrepo<1,>=0.1.15\n",
            "  Downloading scmrepo-0.1.15-py3-none-any.whl (49 kB)\n",
            "\u001b[2K     \u001b[90m━━━━━━━━━━━━━━━━━━━━━━━━━━━━━━━━━━━━━━━━\u001b[0m \u001b[32m49.2/49.2 KB\u001b[0m \u001b[31m5.4 MB/s\u001b[0m eta \u001b[36m0:00:00\u001b[0m\n",
            "\u001b[?25hCollecting flatten-dict<1,>=0.4.1\n",
            "  Downloading flatten_dict-0.4.2-py2.py3-none-any.whl (9.7 kB)\n",
            "Collecting dvc-task<1,>=0.2.0\n",
            "  Downloading dvc_task-0.2.0-py3-none-any.whl (23 kB)\n",
            "Collecting tomlkit>=0.11.1\n",
            "  Downloading tomlkit-0.11.6-py3-none-any.whl (35 kB)\n",
            "Collecting pathspec>=0.10.3\n",
            "  Downloading pathspec-0.11.1-py3-none-any.whl (29 kB)\n",
            "Collecting distro>=1.3\n",
            "  Downloading distro-1.8.0-py3-none-any.whl (20 kB)\n",
            "Requirement already satisfied: networkx>=2.5 in /usr/local/lib/python3.9/dist-packages (from dvc) (3.0)\n",
            "Collecting shtab<2,>=1.3.4\n",
            "  Downloading shtab-1.5.8-py2.py3-none-any.whl (13 kB)\n",
            "Collecting iterative-telemetry>=0.0.7\n",
            "  Downloading iterative_telemetry-0.0.8-py3-none-any.whl (10 kB)\n",
            "Collecting voluptuous>=0.11.7\n",
            "  Downloading voluptuous-0.13.1-py3-none-any.whl (29 kB)\n",
            "Collecting shortuuid>=0.5\n",
            "  Downloading shortuuid-1.0.11-py3-none-any.whl (10 kB)\n",
            "Requirement already satisfied: platformdirs<4,>=3.1.1 in /usr/local/lib/python3.9/dist-packages (from dvc) (3.1.1)\n",
            "Requirement already satisfied: pydot>=1.2.4 in /usr/local/lib/python3.9/dist-packages (from dvc) (1.3.0)\n",
            "Collecting dpath<3,>=2.1.0\n",
            "  Downloading dpath-2.1.4-py3-none-any.whl (17 kB)\n",
            "Collecting funcy>=1.14\n",
            "  Downloading funcy-1.18-py2.py3-none-any.whl (33 kB)\n",
            "Collecting dvc-render>=0.1.2\n",
            "  Downloading dvc_render-0.3.1-py3-none-any.whl (18 kB)\n",
            "Collecting flufl.lock>=5\n",
            "  Downloading flufl.lock-7.1.1-py3-none-any.whl (11 kB)\n",
            "Collecting ruamel.yaml>=0.17.11\n",
            "  Downloading ruamel.yaml-0.17.21-py3-none-any.whl (109 kB)\n",
            "\u001b[2K     \u001b[90m━━━━━━━━━━━━━━━━━━━━━━━━━━━━━━━━━━━━━━\u001b[0m \u001b[32m109.5/109.5 KB\u001b[0m \u001b[31m10.5 MB/s\u001b[0m eta \u001b[36m0:00:00\u001b[0m\n",
            "\u001b[?25hCollecting configobj>=5.0.6\n",
            "  Downloading configobj-5.0.8-py2.py3-none-any.whl (36 kB)\n",
            "Collecting dvc-data<0.45,>=0.44.0\n",
            "  Downloading dvc_data-0.44.1-py3-none-any.whl (59 kB)\n",
            "\u001b[2K     \u001b[90m━━━━━━━━━━━━━━━━━━━━━━━━━━━━━━━━━━━━━━━━\u001b[0m \u001b[32m59.1/59.1 KB\u001b[0m \u001b[31m4.9 MB/s\u001b[0m eta \u001b[36m0:00:00\u001b[0m\n",
            "\u001b[?25hRequirement already satisfied: psutil>=5.8 in /usr/local/lib/python3.9/dist-packages (from dvc) (5.9.4)\n",
            "Collecting hydra-core>=1.1\n",
            "  Downloading hydra_core-1.3.2-py3-none-any.whl (154 kB)\n",
            "\u001b[2K     \u001b[90m━━━━━━━━━━━━━━━━━━━━━━━━━━━━━━━━━━━━━━\u001b[0m \u001b[32m154.5/154.5 KB\u001b[0m \u001b[31m14.1 MB/s\u001b[0m eta \u001b[36m0:00:00\u001b[0m\n",
            "\u001b[?25hRequirement already satisfied: six in /usr/local/lib/python3.9/dist-packages (from configobj>=5.0.6->dvc) (1.15.0)\n",
            "Collecting diskcache>=5.2.1\n",
            "  Downloading diskcache-5.4.0-py3-none-any.whl (44 kB)\n",
            "\u001b[2K     \u001b[90m━━━━━━━━━━━━━━━━━━━━━━━━━━━━━━━━━━━━━━━━\u001b[0m \u001b[32m45.0/45.0 KB\u001b[0m \u001b[31m4.2 MB/s\u001b[0m eta \u001b[36m0:00:00\u001b[0m\n",
            "\u001b[?25hRequirement already satisfied: attrs>=21.3.0 in /usr/local/lib/python3.9/dist-packages (from dvc-data<0.45,>=0.44.0->dvc) (22.2.0)\n",
            "Collecting dictdiffer>=0.8.1\n",
            "  Downloading dictdiffer-0.9.0-py2.py3-none-any.whl (16 kB)\n",
            "Collecting dvc-objects<1,>=0.21.1\n",
            "  Downloading dvc_objects-0.21.1-py3-none-any.whl (37 kB)\n",
            "Collecting nanotime>=0.5.2\n",
            "  Downloading nanotime-0.5.2.tar.gz (3.2 kB)\n",
            "  Preparing metadata (setup.py) ... \u001b[?25l\u001b[?25hdone\n",
            "Collecting sqltrie<1,>=0.3.0\n",
            "  Downloading sqltrie-0.3.0-py3-none-any.whl (16 kB)\n",
            "Collecting dulwich\n",
            "  Downloading dulwich-0.21.3-cp39-cp39-manylinux_2_17_x86_64.manylinux2014_x86_64.whl (505 kB)\n",
            "\u001b[2K     \u001b[90m━━━━━━━━━━━━━━━━━━━━━━━━━━━━━━━━━━━━━━\u001b[0m \u001b[32m505.9/505.9 KB\u001b[0m \u001b[31m36.7 MB/s\u001b[0m eta \u001b[36m0:00:00\u001b[0m\n",
            "\u001b[?25hCollecting kombu<6,>=5.2.0\n",
            "  Downloading kombu-5.2.4-py3-none-any.whl (189 kB)\n",
            "\u001b[2K     \u001b[90m━━━━━━━━━━━━━━━━━━━━━━━━━━━━━━━━━━━━━━\u001b[0m \u001b[32m189.2/189.2 KB\u001b[0m \u001b[31m18.8 MB/s\u001b[0m eta \u001b[36m0:00:00\u001b[0m\n",
            "\u001b[?25hCollecting celery<6,>=5.2.0\n",
            "  Downloading celery-5.2.7-py3-none-any.whl (405 kB)\n",
            "\u001b[2K     \u001b[90m━━━━━━━━━━━━━━━━━━━━━━━━━━━━━━━━━━━━━━\u001b[0m \u001b[32m405.6/405.6 KB\u001b[0m \u001b[31m22.2 MB/s\u001b[0m eta \u001b[36m0:00:00\u001b[0m\n",
            "\u001b[?25hCollecting atpublic>=2.3\n",
            "  Downloading atpublic-3.1.1-py3-none-any.whl (4.8 kB)\n",
            "Collecting antlr4-python3-runtime==4.9.*\n",
            "  Downloading antlr4-python3-runtime-4.9.3.tar.gz (117 kB)\n",
            "\u001b[2K     \u001b[90m━━━━━━━━━━━━━━━━━━━━━━━━━━━━━━━━━━━━━━\u001b[0m \u001b[32m117.0/117.0 KB\u001b[0m \u001b[31m11.0 MB/s\u001b[0m eta \u001b[36m0:00:00\u001b[0m\n",
            "\u001b[?25h  Preparing metadata (setup.py) ... \u001b[?25l\u001b[?25hdone\n",
            "Collecting omegaconf<2.4,>=2.2\n",
            "  Downloading omegaconf-2.3.0-py3-none-any.whl (79 kB)\n",
            "\u001b[2K     \u001b[90m━━━━━━━━━━━━━━━━━━━━━━━━━━━━━━━━━━━━━━━━\u001b[0m \u001b[32m79.5/79.5 KB\u001b[0m \u001b[31m8.3 MB/s\u001b[0m eta \u001b[36m0:00:00\u001b[0m\n",
            "\u001b[?25hCollecting appdirs\n",
            "  Downloading appdirs-1.4.4-py2.py3-none-any.whl (9.6 kB)\n",
            "Requirement already satisfied: filelock in /usr/local/lib/python3.9/dist-packages (from iterative-telemetry>=0.0.7->dvc) (3.10.0)\n",
            "Requirement already satisfied: idna<4,>=2.5 in /usr/local/lib/python3.9/dist-packages (from requests>=2.22->dvc) (3.4)\n",
            "Requirement already satisfied: charset-normalizer~=2.0.0 in /usr/local/lib/python3.9/dist-packages (from requests>=2.22->dvc) (2.0.12)\n",
            "Requirement already satisfied: certifi>=2017.4.17 in /usr/local/lib/python3.9/dist-packages (from requests>=2.22->dvc) (2022.12.7)\n",
            "Requirement already satisfied: urllib3<1.27,>=1.21.1 in /usr/local/lib/python3.9/dist-packages (from requests>=2.22->dvc) (1.26.15)\n",
            "Collecting markdown-it-py<3.0.0,>=2.2.0\n",
            "  Downloading markdown_it_py-2.2.0-py3-none-any.whl (84 kB)\n",
            "\u001b[2K     \u001b[90m━━━━━━━━━━━━━━━━━━━━━━━━━━━━━━━━━━━━━━━━\u001b[0m \u001b[32m84.5/84.5 KB\u001b[0m \u001b[31m8.4 MB/s\u001b[0m eta \u001b[36m0:00:00\u001b[0m\n",
            "\u001b[?25hCollecting pygments<3.0.0,>=2.13.0\n",
            "  Downloading Pygments-2.14.0-py3-none-any.whl (1.1 MB)\n",
            "\u001b[2K     \u001b[90m━━━━━━━━━━━━━━━━━━━━━━━━━━━━━━━━━━━━━━━━\u001b[0m \u001b[32m1.1/1.1 MB\u001b[0m \u001b[31m38.5 MB/s\u001b[0m eta \u001b[36m0:00:00\u001b[0m\n",
            "\u001b[?25hCollecting ruamel.yaml.clib>=0.2.6\n",
            "  Downloading ruamel.yaml.clib-0.2.7-cp39-cp39-manylinux_2_17_x86_64.manylinux2014_x86_64.manylinux_2_24_x86_64.whl (519 kB)\n",
            "\u001b[2K     \u001b[90m━━━━━━━━━━━━━━━━━━━━━━━━━━━━━━━━━━━━━━\u001b[0m \u001b[32m519.4/519.4 KB\u001b[0m \u001b[31m39.0 MB/s\u001b[0m eta \u001b[36m0:00:00\u001b[0m\n",
            "\u001b[?25hCollecting asyncssh<3,>=2.7.1\n",
            "  Downloading asyncssh-2.13.1-py3-none-any.whl (348 kB)\n",
            "\u001b[2K     \u001b[90m━━━━━━━━━━━━━━━━━━━━━━━━━━━━━━━━━━━━━━\u001b[0m \u001b[32m348.5/348.5 KB\u001b[0m \u001b[31m29.7 MB/s\u001b[0m eta \u001b[36m0:00:00\u001b[0m\n",
            "\u001b[?25hRequirement already satisfied: fsspec>=2021.7.0 in /usr/local/lib/python3.9/dist-packages (from scmrepo<1,>=0.1.15->dvc) (2023.3.0)\n",
            "Collecting pygit2>=1.10.0\n",
            "  Downloading pygit2-1.11.1-cp39-cp39-manylinux_2_24_x86_64.whl (3.7 MB)\n",
            "\u001b[2K     \u001b[90m━━━━━━━━━━━━━━━━━━━━━━━━━━━━━━━━━━━━━━━━\u001b[0m \u001b[32m3.7/3.7 MB\u001b[0m \u001b[31m71.6 MB/s\u001b[0m eta \u001b[36m0:00:00\u001b[0m\n",
            "\u001b[?25hCollecting gitpython>3\n",
            "  Downloading GitPython-3.1.31-py3-none-any.whl (184 kB)\n",
            "\u001b[2K     \u001b[90m━━━━━━━━━━━━━━━━━━━━━━━━━━━━━━━━━━━━━━\u001b[0m \u001b[32m184.3/184.3 KB\u001b[0m \u001b[31m14.9 MB/s\u001b[0m eta \u001b[36m0:00:00\u001b[0m\n",
            "\u001b[?25hRequirement already satisfied: setuptools in /usr/local/lib/python3.9/dist-packages (from zc.lockfile>=1.2.1->dvc) (63.4.3)\n",
            "Collecting aiohttp-retry>=2.5.0\n",
            "  Downloading aiohttp_retry-2.8.3-py3-none-any.whl (9.8 kB)\n",
            "Collecting aiohttp\n",
            "  Downloading aiohttp-3.8.4-cp39-cp39-manylinux_2_17_x86_64.manylinux2014_x86_64.whl (1.0 MB)\n",
            "\u001b[2K     \u001b[90m━━━━━━━━━━━━━━━━━━━━━━━━━━━━━━━━━━━━━━━━\u001b[0m \u001b[32m1.0/1.0 MB\u001b[0m \u001b[31m56.3 MB/s\u001b[0m eta \u001b[36m0:00:00\u001b[0m\n",
            "\u001b[?25hCollecting cryptography>=3.1\n",
            "  Downloading cryptography-39.0.2-cp36-abi3-manylinux_2_28_x86_64.whl (4.2 MB)\n",
            "\u001b[2K     \u001b[90m━━━━━━━━━━━━━━━━━━━━━━━━━━━━━━━━━━━━━━━━\u001b[0m \u001b[32m4.2/4.2 MB\u001b[0m \u001b[31m68.2 MB/s\u001b[0m eta \u001b[36m0:00:00\u001b[0m\n",
            "\u001b[?25hRequirement already satisfied: typing-extensions>=3.6 in /usr/local/lib/python3.9/dist-packages (from asyncssh<3,>=2.7.1->scmrepo<1,>=0.1.15->dvc) (4.5.0)\n",
            "Requirement already satisfied: pytz>=2021.3 in /usr/local/lib/python3.9/dist-packages (from celery<6,>=5.2.0->dvc-task<1,>=0.2.0->dvc) (2022.7.1)\n",
            "Collecting vine<6.0,>=5.0.0\n",
            "  Downloading vine-5.0.0-py2.py3-none-any.whl (9.4 kB)\n",
            "Requirement already satisfied: click<9.0,>=8.0.3 in /usr/local/lib/python3.9/dist-packages (from celery<6,>=5.2.0->dvc-task<1,>=0.2.0->dvc) (8.1.3)\n",
            "Collecting click-repl>=0.2.0\n",
            "  Downloading click_repl-0.2.0-py3-none-any.whl (5.2 kB)\n",
            "Collecting click-plugins>=1.1.1\n",
            "  Downloading click_plugins-1.1.1-py2.py3-none-any.whl (7.5 kB)\n",
            "Collecting click-didyoumean>=0.0.3\n",
            "  Downloading click_didyoumean-0.3.0-py3-none-any.whl (2.7 kB)\n",
            "Collecting billiard<4.0,>=3.6.4.0\n",
            "  Downloading billiard-3.6.4.0-py3-none-any.whl (89 kB)\n",
            "\u001b[2K     \u001b[90m━━━━━━━━━━━━━━━━━━━━━━━━━━━━━━━━━━━━━━━━\u001b[0m \u001b[32m89.5/89.5 KB\u001b[0m \u001b[31m8.4 MB/s\u001b[0m eta \u001b[36m0:00:00\u001b[0m\n",
            "\u001b[?25hCollecting gitdb<5,>=4.0.1\n",
            "  Downloading gitdb-4.0.10-py3-none-any.whl (62 kB)\n",
            "\u001b[2K     \u001b[90m━━━━━━━━━━━━━━━━━━━━━━━━━━━━━━━━━━━━━━━━\u001b[0m \u001b[32m62.7/62.7 KB\u001b[0m \u001b[31m6.8 MB/s\u001b[0m eta \u001b[36m0:00:00\u001b[0m\n",
            "\u001b[?25hCollecting amqp<6.0.0,>=5.0.9\n",
            "  Downloading amqp-5.1.1-py3-none-any.whl (50 kB)\n",
            "\u001b[2K     \u001b[90m━━━━━━━━━━━━━━━━━━━━━━━━━━━━━━━━━━━━━━━━\u001b[0m \u001b[32m50.8/50.8 KB\u001b[0m \u001b[31m5.4 MB/s\u001b[0m eta \u001b[36m0:00:00\u001b[0m\n",
            "\u001b[?25hCollecting mdurl~=0.1\n",
            "  Downloading mdurl-0.1.2-py3-none-any.whl (10.0 kB)\n",
            "Requirement already satisfied: PyYAML>=5.1.0 in /usr/local/lib/python3.9/dist-packages (from omegaconf<2.4,>=2.2->hydra-core>=1.1->dvc) (6.0)\n",
            "Requirement already satisfied: cffi>=1.9.1 in /usr/local/lib/python3.9/dist-packages (from pygit2>=1.10.0->scmrepo<1,>=0.1.15->dvc) (1.15.1)\n",
            "Collecting orjson\n",
            "  Downloading orjson-3.8.7-cp39-cp39-manylinux_2_28_x86_64.whl (140 kB)\n",
            "\u001b[2K     \u001b[90m━━━━━━━━━━━━━━━━━━━━━━━━━━━━━━━━━━━━━━\u001b[0m \u001b[32m140.9/140.9 KB\u001b[0m \u001b[31m12.7 MB/s\u001b[0m eta \u001b[36m0:00:00\u001b[0m\n",
            "\u001b[?25hCollecting yarl<2.0,>=1.0\n",
            "  Downloading yarl-1.8.2-cp39-cp39-manylinux_2_17_x86_64.manylinux2014_x86_64.whl (264 kB)\n",
            "\u001b[2K     \u001b[90m━━━━━━━━━━━━━━━━━━━━━━━━━━━━━━━━━━━━━━\u001b[0m \u001b[32m264.6/264.6 KB\u001b[0m \u001b[31m16.6 MB/s\u001b[0m eta \u001b[36m0:00:00\u001b[0m\n",
            "\u001b[?25hCollecting multidict<7.0,>=4.5\n",
            "  Downloading multidict-6.0.4-cp39-cp39-manylinux_2_17_x86_64.manylinux2014_x86_64.whl (114 kB)\n",
            "\u001b[2K     \u001b[90m━━━━━━━━━━━━━━━━━━━━━━━━━━━━━━━━━━━━━━\u001b[0m \u001b[32m114.2/114.2 KB\u001b[0m \u001b[31m11.5 MB/s\u001b[0m eta \u001b[36m0:00:00\u001b[0m\n",
            "\u001b[?25hCollecting aiosignal>=1.1.2\n",
            "  Downloading aiosignal-1.3.1-py3-none-any.whl (7.6 kB)\n",
            "Collecting async-timeout<5.0,>=4.0.0a3\n",
            "  Downloading async_timeout-4.0.2-py3-none-any.whl (5.8 kB)\n",
            "Collecting frozenlist>=1.1.1\n",
            "  Downloading frozenlist-1.3.3-cp39-cp39-manylinux_2_5_x86_64.manylinux1_x86_64.manylinux_2_17_x86_64.manylinux2014_x86_64.whl (158 kB)\n",
            "\u001b[2K     \u001b[90m━━━━━━━━━━━━━━━━━━━━━━━━━━━━━━━━━━━━━━\u001b[0m \u001b[32m158.8/158.8 KB\u001b[0m \u001b[31m15.9 MB/s\u001b[0m eta \u001b[36m0:00:00\u001b[0m\n",
            "\u001b[?25hRequirement already satisfied: pycparser in /usr/local/lib/python3.9/dist-packages (from cffi>=1.9.1->pygit2>=1.10.0->scmrepo<1,>=0.1.15->dvc) (2.21)\n",
            "Requirement already satisfied: prompt-toolkit in /usr/local/lib/python3.9/dist-packages (from click-repl>=0.2.0->celery<6,>=5.2.0->dvc-task<1,>=0.2.0->dvc) (2.0.10)\n",
            "Collecting smmap<6,>=3.0.1\n",
            "  Downloading smmap-5.0.0-py3-none-any.whl (24 kB)\n",
            "Requirement already satisfied: wcwidth in /usr/local/lib/python3.9/dist-packages (from prompt-toolkit->click-repl>=0.2.0->celery<6,>=5.2.0->dvc-task<1,>=0.2.0->dvc) (0.2.6)\n",
            "Building wheels for collected packages: antlr4-python3-runtime, nanotime\n",
            "  Building wheel for antlr4-python3-runtime (setup.py) ... \u001b[?25l\u001b[?25hdone\n",
            "  Created wheel for antlr4-python3-runtime: filename=antlr4_python3_runtime-4.9.3-py3-none-any.whl size=144573 sha256=1d132c34ecef52fba39e49a4547b04eb57f60dfab018ac01e42948888c739bf2\n",
            "  Stored in directory: /root/.cache/pip/wheels/23/cf/80/f3efa822e6ab23277902ee9165fe772eeb1dfb8014f359020a\n",
            "  Building wheel for nanotime (setup.py) ... \u001b[?25l\u001b[?25hdone\n",
            "  Created wheel for nanotime: filename=nanotime-0.5.2-py3-none-any.whl size=2440 sha256=4f29738fce55f794bdd270808c8fdb54e0e2cbe0a4c62a6d741ca38fbc15d21b\n",
            "  Stored in directory: /root/.cache/pip/wheels/ee/1f/7c/610bdb7d5541b98d9743c5953e32681ef35dd54fadddd347e8\n",
            "Successfully built antlr4-python3-runtime nanotime\n",
            "Installing collected packages: voluptuous, pygtrie, nanotime, funcy, dictdiffer, billiard, appdirs, antlr4-python3-runtime, zc.lockfile, vine, tomlkit, smmap, shtab, shortuuid, ruamel.yaml.clib, pygments, pathspec, orjson, omegaconf, multidict, mdurl, grandalf, frozenlist, flatten-dict, dvc-render, dulwich, dpath, distro, diskcache, configobj, colorama, click-plugins, click-didyoumean, atpublic, async-timeout, yarl, sqltrie, ruamel.yaml, pygit2, markdown-it-py, iterative-telemetry, hydra-core, gitdb, flufl.lock, dvc-studio-client, dvc-objects, cryptography, click-repl, amqp, aiosignal, rich, kombu, gitpython, dvc-data, asyncssh, aiohttp, scmrepo, celery, aiohttp-retry, dvc-task, dvc-http, dvc\n",
            "  Attempting uninstall: pygments\n",
            "    Found existing installation: Pygments 2.6.1\n",
            "    Uninstalling Pygments-2.6.1:\n",
            "      Successfully uninstalled Pygments-2.6.1\n",
            "\u001b[31mERROR: pip's dependency resolver does not currently take into account all the packages that are installed. This behaviour is the source of the following dependency conflicts.\n",
            "ipython 7.9.0 requires jedi>=0.10, which is not installed.\u001b[0m\u001b[31m\n",
            "\u001b[0mSuccessfully installed aiohttp-3.8.4 aiohttp-retry-2.8.3 aiosignal-1.3.1 amqp-5.1.1 antlr4-python3-runtime-4.9.3 appdirs-1.4.4 async-timeout-4.0.2 asyncssh-2.13.1 atpublic-3.1.1 billiard-3.6.4.0 celery-5.2.7 click-didyoumean-0.3.0 click-plugins-1.1.1 click-repl-0.2.0 colorama-0.4.6 configobj-5.0.8 cryptography-39.0.2 dictdiffer-0.9.0 diskcache-5.4.0 distro-1.8.0 dpath-2.1.4 dulwich-0.21.3 dvc-2.50.0 dvc-data-0.44.1 dvc-http-2.30.2 dvc-objects-0.21.1 dvc-render-0.3.1 dvc-studio-client-0.6.1 dvc-task-0.2.0 flatten-dict-0.4.2 flufl.lock-7.1.1 frozenlist-1.3.3 funcy-1.18 gitdb-4.0.10 gitpython-3.1.31 grandalf-0.8 hydra-core-1.3.2 iterative-telemetry-0.0.8 kombu-5.2.4 markdown-it-py-2.2.0 mdurl-0.1.2 multidict-6.0.4 nanotime-0.5.2 omegaconf-2.3.0 orjson-3.8.7 pathspec-0.11.1 pygit2-1.11.1 pygments-2.14.0 pygtrie-2.5.0 rich-13.3.2 ruamel.yaml-0.17.21 ruamel.yaml.clib-0.2.7 scmrepo-0.1.15 shortuuid-1.0.11 shtab-1.5.8 smmap-5.0.0 sqltrie-0.3.0 tomlkit-0.11.6 vine-5.0.0 voluptuous-0.13.1 yarl-1.8.2 zc.lockfile-3.0.post1\n"
          ]
        }
      ]
    },
    {
      "cell_type": "markdown",
      "source": [
        "Now, we can initialize dvc"
      ],
      "metadata": {
        "id": "AK809mip9zYz"
      }
    },
    {
      "cell_type": "code",
      "source": [
        "!dvc init"
      ],
      "metadata": {
        "colab": {
          "base_uri": "https://localhost:8080/"
        },
        "id": "KnloJ5WI9ugI",
        "outputId": "0ea3381d-a25a-4417-c5af-4fbf50787c2d"
      },
      "execution_count": 80,
      "outputs": [
        {
          "output_type": "stream",
          "name": "stdout",
          "text": [
            "Initialized DVC repository.\n",
            "\n",
            "You can now commit the changes to git.\n",
            "\n",
            "\u001b[31m+---------------------------------------------------------------------+\n",
            "\u001b[0m\u001b[31m|\u001b[0m                                                                     \u001b[31m|\u001b[0m\n",
            "\u001b[31m|\u001b[0m        DVC has enabled anonymous aggregate usage analytics.         \u001b[31m|\u001b[0m\n",
            "\u001b[31m|\u001b[0m     Read the analytics documentation (and how to opt-out) here:     \u001b[31m|\u001b[0m\n",
            "\u001b[31m|\u001b[0m             <\u001b[36mhttps://dvc.org/doc/user-guide/analytics\u001b[39m>              \u001b[31m|\u001b[0m\n",
            "\u001b[31m|\u001b[0m                                                                     \u001b[31m|\u001b[0m\n",
            "\u001b[31m+---------------------------------------------------------------------+\n",
            "\u001b[0m\n",
            "\u001b[33mWhat's next?\u001b[39m\n",
            "\u001b[33m------------\u001b[39m\n",
            "- Check out the documentation: <\u001b[36mhttps://dvc.org/doc\u001b[39m>\n",
            "- Get help and share ideas: <\u001b[36mhttps://dvc.org/chat\u001b[39m>\n",
            "- Star us on GitHub: <\u001b[36mhttps://github.com/iterative/dvc\u001b[39m>\n",
            "\u001b[0m"
          ]
        }
      ]
    },
    {
      "cell_type": "markdown",
      "source": [
        "Go ahead and run some dvc commands, they are mostly the same as git commands but start with dvc. Try a few on your own!"
      ],
      "metadata": {
        "id": "ZLPx-PvS93Yi"
      }
    },
    {
      "cell_type": "code",
      "source": [
        "!dvc status"
      ],
      "metadata": {
        "colab": {
          "base_uri": "https://localhost:8080/"
        },
        "id": "EZsH1cM792BY",
        "outputId": "f7ca5ff1-d337-4f31-a8a2-30de3407ecae"
      },
      "execution_count": 81,
      "outputs": [
        {
          "output_type": "stream",
          "name": "stdout",
          "text": [
            "\r!\rIf DVC froze, see `hardlink_lock` in <\u001b[36mhttps://man.dvc.org/config#core\u001b[39m>\r                                                                      \rThere are no data or pipelines tracked in this project yet.\n",
            "See <\u001b[36mhttps://dvc.org/doc/start\u001b[39m> to get started!\n",
            "\u001b[0m"
          ]
        }
      ]
    },
    {
      "cell_type": "code",
      "source": [
        "!dvc log"
      ],
      "metadata": {
        "colab": {
          "base_uri": "https://localhost:8080/"
        },
        "id": "4qD4G_zD9-ML",
        "outputId": "b1361cec-6c17-4516-9fd6-6bd5fc9ec4df"
      },
      "execution_count": 82,
      "outputs": [
        {
          "output_type": "stream",
          "name": "stdout",
          "text": [
            "\u001b[31mERROR\u001b[39m: argument COMMAND: invalid choice: 'log' (choose from 'init', 'queue', 'get', 'get-url', 'destroy', 'add', 'remove', 'move', 'unprotect', 'run', 'repro', 'pull', 'push', 'fetch', 'status', 'gc', 'import', 'import-url', 'config', 'checkout', 'remote', 'cache', 'metrics', 'params', 'install', 'root', 'list', 'ls', 'list-url', 'ls-url', 'freeze', 'unfreeze', 'dag', 'daemon', 'commit', 'completion', 'diff', 'version', 'doctor', 'update', 'git-hook', 'plots', 'stage', 'experiments', 'exp', 'check-ignore', 'machine', 'data')\n",
            "usage: dvc\n",
            "       [-q | -v]\n",
            "       [-h]\n",
            "       [-V]\n",
            "       [--cd <path>]\n",
            "       COMMAND\n",
            "       ...\n",
            "\n",
            "Data Version Control\n",
            "\n",
            "optional arguments:\n",
            "  -q, --quiet\n",
            "    Be quiet.\n",
            "  -v, --verbose\n",
            "    Be verbose.\n",
            "  -h, --help\n",
            "    Show this help message and exit.\n",
            "  -V, --version\n",
            "    Show program's version.\n",
            "  --cd <path>\n",
            "    Change to directory before executing.\n",
            "\n",
            "Available Commands:\n",
            "  COMMAND\n",
            "    Use `dvc COMMAND --help` for command-specific help.\n",
            "    init\n",
            "    Initialize DVC in the current directory.\n",
            "    queue\n",
            "    Commands to manage experiments queue.\n",
            "    get\n",
            "    Download file or directory tracked by DVC or by Git.\n",
            "    get-url\n",
            "    Download or copy files from URL.\n",
            "    destroy\n",
            "    Remove DVC files, local DVC config and data cache.\n",
            "    add\n",
            "    Track data files or directories with DVC.\n",
            "    remove\n",
            "    Remove stages from dvc.yaml and/or stop tracking files or directories.\n",
            "    move\n",
            "    Rename or move a DVC controlled data file or a directory.\n",
            "    unprotect\n",
            "    Unprotect tracked files or directories (when hardlinks or symlinks have been enabled with `dvc config cache.type`).\n",
            "    run\n",
            "    Generate a dvc.yaml file from a command and execute the command.\n",
            "    repro\n",
            "    Reproduce complete or partial pipelines by executing their stages.\n",
            "    pull\n",
            "    Download tracked files or directories from remote storage.\n",
            "    push\n",
            "    Upload tracked files or directories to remote storage.\n",
            "    fetch\n",
            "    Download files or directories from remote storage to the cache.\n",
            "    status\n",
            "    Show changed stages, compare local cache and a remote storage.\n",
            "    gc\n",
            "    Garbage collect unused objects from cache or remote storage.\n",
            "    import\n",
            "    Download file or directory tracked by DVC or by Git into the workspace, and track it.\n",
            "    import-url\n",
            "    Download or copy file from URL and take it under DVC control.\n",
            "    config\n",
            "    Get or set config options.\n",
            "    checkout\n",
            "    Checkout data files from cache.\n",
            "    remote\n",
            "    Set up and manage data remotes.\n",
            "    cache\n",
            "    Manage cache settings.\n",
            "    metrics\n",
            "    Commands to display and compare metrics.\n",
            "    params\n",
            "    Commands to display params.\n",
            "    install\n",
            "    Install DVC git hooks into the repository.\n",
            "    root\n",
            "    Return the relative path to the root of the DVC project.\n",
            "    list (ls)\n",
            "    List repository contents, including files and directories tracked by DVC and by Git.\n",
            "    list-url (ls-url)\n",
            "    List directory contents from URL.\n",
            "    freeze\n",
            "    Freeze stages or .dvc files.\n",
            "    unfreeze\n",
            "    Unfreeze stages or .dvc files.\n",
            "    dag\n",
            "    Visualize DVC project DAG.\n",
            "    commit\n",
            "    Record changes to files or directories tracked by DVC by storing the current versions in the cache.\n",
            "    completion\n",
            "    Generate shell tab completion.\n",
            "    diff\n",
            "    Show added, modified, or deleted data between commits in the DVC repository, or between a commit and the workspace.\n",
            "    version (doctor)\n",
            "    Display the DVC version and system/environment information.\n",
            "    update\n",
            "    Update data artifact imported (via dvc import or dvc import-url) from an external DVC repository or URL.\n",
            "    plots\n",
            "    Commands to visualize and compare plot data.\n",
            "    stage\n",
            "    Commands to list and create stages.\n",
            "    experiments (exp)\n",
            "    Commands to run and compare experiments.\n",
            "    check-ignore\n",
            "    Check whether files or directories are excluded due to `.dvcignore`.\n",
            "\u001b[0m"
          ]
        }
      ]
    }
  ]
}