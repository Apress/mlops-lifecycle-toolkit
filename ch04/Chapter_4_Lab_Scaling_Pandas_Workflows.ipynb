{
  "nbformat": 4,
  "nbformat_minor": 0,
  "metadata": {
    "colab": {
      "provenance": []
    },
    "kernelspec": {
      "name": "python3",
      "display_name": "Python 3"
    },
    "language_info": {
      "name": "python"
    }
  },
  "cells": [
    {
      "cell_type": "markdown",
      "source": [
        "## Chapter 4 Lab: Scaling Pandas Workflows with a Single Line of Code\n",
        "\n",
        "In this chapter we showed ho wto use a drop in solution called Pandas on Spark to scale pandas workflows. This only requires a single code change.\n",
        "\n"
      ],
      "metadata": {
        "id": "pwvUU_R_qXC0"
      }
    },
    {
      "cell_type": "code",
      "execution_count": 5,
      "metadata": {
        "colab": {
          "base_uri": "https://localhost:8080/",
          "height": 138
        },
        "id": "pnBKqk3mqVmi",
        "outputId": "1b625c0e-d78d-4575-e9c3-bf79ed6bfaaf"
      },
      "outputs": [
        {
          "output_type": "error",
          "ename": "SyntaxError",
          "evalue": "ignored",
          "traceback": [
            "\u001b[0;36m  File \u001b[0;32m\"<ipython-input-5-799c66735f1b>\"\u001b[0;36m, line \u001b[0;32m1\u001b[0m\n\u001b[0;31m    ```\u001b[0m\n\u001b[0m    ^\u001b[0m\n\u001b[0;31mSyntaxError\u001b[0m\u001b[0;31m:\u001b[0m invalid syntax\n"
          ]
        }
      ],
      "source": [
        "```\n",
        "# Import this code into the Databricks notebook.\n",
        "```\n",
        "\n",
        "from pyspark import pandas as ps\n",
        "\n",
        "\n",
        "# Load data from CSV file\n",
        "df = ps.DataFrame({'component': [2, 4, 8, 0] })\n",
        "\n",
        "# Display the first 5 rows of the data\n",
        "print(ds.head())\n",
        "\n",
        "# Calculate the mean and median of a numerical column\n",
        "mean_value = df[‘temperature'].mean()\n",
        "median_value = df['pressure'].median()\n",
        "\n",
        "print('Mean:', mean_value)\n",
        "print('Median:', median_value)"
      ]
    },
    {
      "cell_type": "code",
      "source": [],
      "metadata": {
        "id": "zuYS3iSCrFBk"
      },
      "execution_count": null,
      "outputs": []
    }
  ]
}